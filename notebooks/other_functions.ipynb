{
 "cells": [
  {
   "cell_type": "markdown",
   "metadata": {},
   "source": [
    "Opticspy has a lot of other interesting and usefull functions: Gauss beam calculation and simulation, some functions about lens design and aberration(third order aberration, field curvature and zoom position analysis), Jones matrix\n",
    "\n",
    "Gauss beam calculation and simulation"
   ]
  },
  {
   "cell_type": "code",
   "execution_count": 1,
   "metadata": {},
   "outputs": [],
   "source": [
    "%matplotlib inline\n",
    "import opticspy"
   ]
  },
  {
   "cell_type": "code",
   "execution_count": 2,
   "metadata": {},
   "outputs": [
    {
     "name": "stdout",
     "output_type": "stream",
     "text": [
      "               Gaussian Beams Calculator\n",
      "--------------------------------------------------------\n",
      "|              Axial Distance, z (mm) |  2      \n",
      "|                 Beam Waist, w0 (mm) |  0.1    \n",
      "|             Wavelength, lambda (um) |  0.633  \n",
      "|       Half Beam Diameter, w(z) (mm) |  0.1    \n",
      "|      Radius of Curvature, R(z) (mm) |  1233.579 \n",
      "|             Rayleigh Range, z0 (mm) |  49.63  \n",
      "|     Rayleigh Half Diameter, w0 (mm) |  0.141  \n",
      "| Half Angle Divergence, theta (mrad) |  2.015  \n",
      "--------------------------------------------------------\n"
     ]
    }
   ],
   "source": [
    "G1 = opticspy.gauss.gausscal(z = 2)"
   ]
  },
  {
   "cell_type": "code",
   "execution_count": 3,
   "metadata": {},
   "outputs": [
    {
     "ename": "AttributeError",
     "evalue": "module 'matplotlib.cbook' has no attribute '_string_to_bool'",
     "output_type": "error",
     "traceback": [
      "\u001b[0;31m---------------------------------------------------------------------------\u001b[0m",
      "\u001b[0;31mAttributeError\u001b[0m                            Traceback (most recent call last)",
      "\u001b[1;32m/Users/jwgu/git/opticspy/notebooks/other_functions.ipynb Cell 4\u001b[0m line \u001b[0;36m1\n\u001b[0;32m----> <a href='vscode-notebook-cell:/Users/jwgu/git/opticspy/notebooks/other_functions.ipynb#W3sZmlsZQ%3D%3D?line=0'>1</a>\u001b[0m G2 \u001b[39m=\u001b[39m opticspy\u001b[39m.\u001b[39;49mgauss\u001b[39m.\u001b[39;49mgaussbeam(w0\u001b[39m=\u001b[39;49m\u001b[39m1\u001b[39;49m, P\u001b[39m=\u001b[39;49m\u001b[39m5\u001b[39;49m, z0\u001b[39m=\u001b[39;49m\u001b[39m5\u001b[39;49m, z\u001b[39m=\u001b[39;49m\u001b[39m10\u001b[39;49m)\n",
      "File \u001b[0;32m~/git/opticspy/opticspy/gauss.py:66\u001b[0m, in \u001b[0;36mgaussbeam\u001b[0;34m(w0, P, z0, z)\u001b[0m\n\u001b[1;32m     64\u001b[0m wz \u001b[39m=\u001b[39m w0\u001b[39m*\u001b[39m__np__\u001b[39m.\u001b[39msqrt(\u001b[39m1\u001b[39m\u001b[39m+\u001b[39m(z\u001b[39m/\u001b[39mz0)\u001b[39m*\u001b[39m\u001b[39m*\u001b[39m\u001b[39m2\u001b[39m)\n\u001b[1;32m     65\u001b[0m I \u001b[39m=\u001b[39m \u001b[39m2\u001b[39m\u001b[39m*\u001b[39mP\u001b[39m/\u001b[39m__np__\u001b[39m.\u001b[39mpi\u001b[39m/\u001b[39m(wz\u001b[39m*\u001b[39m\u001b[39m*\u001b[39m\u001b[39m2\u001b[39m)\u001b[39m*\u001b[39m__np__\u001b[39m.\u001b[39mexp(\u001b[39m-\u001b[39m\u001b[39m2\u001b[39m\u001b[39m*\u001b[39m(x\u001b[39m*\u001b[39m\u001b[39m*\u001b[39m\u001b[39m2\u001b[39m\u001b[39m+\u001b[39my\u001b[39m*\u001b[39m\u001b[39m*\u001b[39m\u001b[39m2\u001b[39m)\u001b[39m/\u001b[39m(wz\u001b[39m*\u001b[39m\u001b[39m*\u001b[39m\u001b[39m2\u001b[39m))\n\u001b[0;32m---> 66\u001b[0m ax \u001b[39m=\u001b[39m __plt__\u001b[39m.\u001b[39;49mfigure()\u001b[39m.\u001b[39;49madd_subplot(projection\u001b[39m=\u001b[39;49m\u001b[39m'\u001b[39;49m\u001b[39m3d\u001b[39;49m\u001b[39m'\u001b[39;49m)\n\u001b[1;32m     67\u001b[0m surf \u001b[39m=\u001b[39m ax\u001b[39m.\u001b[39mplot_surface(x, y, I, rstride\u001b[39m=\u001b[39m\u001b[39m1\u001b[39m, cstride\u001b[39m=\u001b[39m\u001b[39m1\u001b[39m, cmap\u001b[39m=\u001b[39m__cm__\u001b[39m.\u001b[39mRdYlGn,\n\u001b[1;32m     68\u001b[0m \t        linewidth\u001b[39m=\u001b[39m\u001b[39m0\u001b[39m, antialiased\u001b[39m=\u001b[39m\u001b[39mFalse\u001b[39;00m, alpha \u001b[39m=\u001b[39m \u001b[39m0.6\u001b[39m)\n\u001b[1;32m     69\u001b[0m __plt__\u001b[39m.\u001b[39mtitle(\u001b[39m'\u001b[39m\u001b[39mGaussian Beam Intensity Distribution\u001b[39m\u001b[39m'\u001b[39m,fontsize\u001b[39m=\u001b[39m\u001b[39m18\u001b[39m)\n",
      "File \u001b[0;32m~/anaconda3/lib/python3.10/site-packages/matplotlib/figure.py:768\u001b[0m, in \u001b[0;36mFigureBase.add_subplot\u001b[0;34m(self, *args, **kwargs)\u001b[0m\n\u001b[1;32m    765\u001b[0m         args \u001b[39m=\u001b[39m \u001b[39mtuple\u001b[39m(\u001b[39mmap\u001b[39m(\u001b[39mint\u001b[39m, \u001b[39mstr\u001b[39m(args[\u001b[39m0\u001b[39m])))\n\u001b[1;32m    766\u001b[0m     projection_class, pkw \u001b[39m=\u001b[39m \u001b[39mself\u001b[39m\u001b[39m.\u001b[39m_process_projection_requirements(\n\u001b[1;32m    767\u001b[0m         \u001b[39m*\u001b[39margs, \u001b[39m*\u001b[39m\u001b[39m*\u001b[39mkwargs)\n\u001b[0;32m--> 768\u001b[0m     ax \u001b[39m=\u001b[39m projection_class(\u001b[39mself\u001b[39;49m, \u001b[39m*\u001b[39;49margs, \u001b[39m*\u001b[39;49m\u001b[39m*\u001b[39;49mpkw)\n\u001b[1;32m    769\u001b[0m     key \u001b[39m=\u001b[39m (projection_class, pkw)\n\u001b[1;32m    770\u001b[0m \u001b[39mreturn\u001b[39;00m \u001b[39mself\u001b[39m\u001b[39m.\u001b[39m_add_axes_internal(ax, key)\n",
      "File \u001b[0;32m~/git/opticspy/opticspy/mplot3d/axes3d.py:97\u001b[0m, in \u001b[0;36mAxes3D.__init__\u001b[0;34m(self, fig, rect, *args, **kwargs)\u001b[0m\n\u001b[1;32m     94\u001b[0m     \u001b[39mself\u001b[39m\u001b[39m.\u001b[39m_shared_z_axes\u001b[39m.\u001b[39mjoin(\u001b[39mself\u001b[39m, sharez)\n\u001b[1;32m     95\u001b[0m     \u001b[39mself\u001b[39m\u001b[39m.\u001b[39m_adjustable \u001b[39m=\u001b[39m \u001b[39m'\u001b[39m\u001b[39mdatalim\u001b[39m\u001b[39m'\u001b[39m\n\u001b[0;32m---> 97\u001b[0m Axes\u001b[39m.\u001b[39;49m\u001b[39m__init__\u001b[39;49m(\u001b[39mself\u001b[39;49m, fig, rect,\n\u001b[1;32m     98\u001b[0m               frameon\u001b[39m=\u001b[39;49m\u001b[39mTrue\u001b[39;49;00m,\n\u001b[1;32m     99\u001b[0m               \u001b[39m*\u001b[39;49margs, \u001b[39m*\u001b[39;49m\u001b[39m*\u001b[39;49mkwargs)\n\u001b[1;32m    100\u001b[0m \u001b[39m# Disable drawing of axes by base class\u001b[39;00m\n\u001b[1;32m    101\u001b[0m Axes\u001b[39m.\u001b[39mset_axis_off(\u001b[39mself\u001b[39m)\n",
      "File \u001b[0;32m~/anaconda3/lib/python3.10/site-packages/matplotlib/axes/_base.py:683\u001b[0m, in \u001b[0;36m_AxesBase.__init__\u001b[0;34m(self, fig, facecolor, frameon, sharex, sharey, label, xscale, yscale, box_aspect, *args, **kwargs)\u001b[0m\n\u001b[1;32m    680\u001b[0m \u001b[39mself\u001b[39m\u001b[39m.\u001b[39mset_axisbelow(mpl\u001b[39m.\u001b[39mrcParams[\u001b[39m'\u001b[39m\u001b[39maxes.axisbelow\u001b[39m\u001b[39m'\u001b[39m])\n\u001b[1;32m    682\u001b[0m \u001b[39mself\u001b[39m\u001b[39m.\u001b[39m_rasterization_zorder \u001b[39m=\u001b[39m \u001b[39mNone\u001b[39;00m\n\u001b[0;32m--> 683\u001b[0m \u001b[39mself\u001b[39;49m\u001b[39m.\u001b[39;49mclear()\n\u001b[1;32m    685\u001b[0m \u001b[39m# funcs used to format x and y - fall back on major formatters\u001b[39;00m\n\u001b[1;32m    686\u001b[0m \u001b[39mself\u001b[39m\u001b[39m.\u001b[39mfmt_xdata \u001b[39m=\u001b[39m \u001b[39mNone\u001b[39;00m\n",
      "File \u001b[0;32m~/anaconda3/lib/python3.10/site-packages/matplotlib/axes/_base.py:1393\u001b[0m, in \u001b[0;36m_AxesBase.clear\u001b[0;34m(self)\u001b[0m\n\u001b[1;32m   1390\u001b[0m \u001b[39m# Act as an alias, or as the superclass implementation depending on the\u001b[39;00m\n\u001b[1;32m   1391\u001b[0m \u001b[39m# subclass implementation.\u001b[39;00m\n\u001b[1;32m   1392\u001b[0m \u001b[39mif\u001b[39;00m \u001b[39mself\u001b[39m\u001b[39m.\u001b[39m_subclass_uses_cla:\n\u001b[0;32m-> 1393\u001b[0m     \u001b[39mself\u001b[39;49m\u001b[39m.\u001b[39;49mcla()\n\u001b[1;32m   1394\u001b[0m \u001b[39melse\u001b[39;00m:\n\u001b[1;32m   1395\u001b[0m     \u001b[39mself\u001b[39m\u001b[39m.\u001b[39m__clear()\n",
      "File \u001b[0;32m~/git/opticspy/opticspy/mplot3d/axes3d.py:1053\u001b[0m, in \u001b[0;36mAxes3D.cla\u001b[0;34m(self)\u001b[0m\n\u001b[1;32m   1050\u001b[0m \u001b[39mself\u001b[39m\u001b[39m.\u001b[39m_autoscaleZon \u001b[39m=\u001b[39m \u001b[39mTrue\u001b[39;00m\n\u001b[1;32m   1051\u001b[0m \u001b[39mself\u001b[39m\u001b[39m.\u001b[39m_zmargin \u001b[39m=\u001b[39m \u001b[39m0\u001b[39m\n\u001b[0;32m-> 1053\u001b[0m Axes\u001b[39m.\u001b[39;49mcla(\u001b[39mself\u001b[39;49m)\n\u001b[1;32m   1055\u001b[0m \u001b[39mself\u001b[39m\u001b[39m.\u001b[39mgrid(rcParams[\u001b[39m'\u001b[39m\u001b[39maxes3d.grid\u001b[39m\u001b[39m'\u001b[39m])\n",
      "File \u001b[0;32m~/anaconda3/lib/python3.10/site-packages/matplotlib/axes/_base.py:1402\u001b[0m, in \u001b[0;36m_AxesBase.cla\u001b[0;34m(self)\u001b[0m\n\u001b[1;32m   1399\u001b[0m \u001b[39m# Act as an alias, or as the superclass implementation depending on the\u001b[39;00m\n\u001b[1;32m   1400\u001b[0m \u001b[39m# subclass implementation.\u001b[39;00m\n\u001b[1;32m   1401\u001b[0m \u001b[39mif\u001b[39;00m \u001b[39mself\u001b[39m\u001b[39m.\u001b[39m_subclass_uses_cla:\n\u001b[0;32m-> 1402\u001b[0m     \u001b[39mself\u001b[39;49m\u001b[39m.\u001b[39;49m__clear()\n\u001b[1;32m   1403\u001b[0m \u001b[39melse\u001b[39;00m:\n\u001b[1;32m   1404\u001b[0m     \u001b[39mself\u001b[39m\u001b[39m.\u001b[39mclear()\n",
      "File \u001b[0;32m~/anaconda3/lib/python3.10/site-packages/matplotlib/axes/_base.py:1312\u001b[0m, in \u001b[0;36m_AxesBase.__clear\u001b[0;34m(self)\u001b[0m\n\u001b[1;32m   1309\u001b[0m \u001b[39mself\u001b[39m\u001b[39m.\u001b[39mlegend_ \u001b[39m=\u001b[39m \u001b[39mNone\u001b[39;00m\n\u001b[1;32m   1310\u001b[0m \u001b[39mself\u001b[39m\u001b[39m.\u001b[39mcontainers \u001b[39m=\u001b[39m []\n\u001b[0;32m-> 1312\u001b[0m \u001b[39mself\u001b[39;49m\u001b[39m.\u001b[39;49mgrid(\u001b[39mFalse\u001b[39;49;00m)  \u001b[39m# Disable grid on init to use rcParameter\u001b[39;00m\n\u001b[1;32m   1313\u001b[0m \u001b[39mself\u001b[39m\u001b[39m.\u001b[39mgrid(\u001b[39mself\u001b[39m\u001b[39m.\u001b[39m_gridOn, which\u001b[39m=\u001b[39mmpl\u001b[39m.\u001b[39mrcParams[\u001b[39m'\u001b[39m\u001b[39maxes.grid.which\u001b[39m\u001b[39m'\u001b[39m],\n\u001b[1;32m   1314\u001b[0m           axis\u001b[39m=\u001b[39mmpl\u001b[39m.\u001b[39mrcParams[\u001b[39m'\u001b[39m\u001b[39maxes.grid.axis\u001b[39m\u001b[39m'\u001b[39m])\n\u001b[1;32m   1315\u001b[0m props \u001b[39m=\u001b[39m font_manager\u001b[39m.\u001b[39mFontProperties(\n\u001b[1;32m   1316\u001b[0m     size\u001b[39m=\u001b[39mmpl\u001b[39m.\u001b[39mrcParams[\u001b[39m'\u001b[39m\u001b[39maxes.titlesize\u001b[39m\u001b[39m'\u001b[39m],\n\u001b[1;32m   1317\u001b[0m     weight\u001b[39m=\u001b[39mmpl\u001b[39m.\u001b[39mrcParams[\u001b[39m'\u001b[39m\u001b[39maxes.titleweight\u001b[39m\u001b[39m'\u001b[39m])\n",
      "File \u001b[0;32m~/git/opticspy/opticspy/mplot3d/axes3d.py:1264\u001b[0m, in \u001b[0;36mAxes3D.grid\u001b[0;34m(self, b, **kwargs)\u001b[0m\n\u001b[1;32m   1262\u001b[0m \u001b[39mif\u001b[39;00m \u001b[39mlen\u001b[39m(kwargs) :\n\u001b[1;32m   1263\u001b[0m     b \u001b[39m=\u001b[39m \u001b[39mTrue\u001b[39;00m\n\u001b[0;32m-> 1264\u001b[0m \u001b[39mself\u001b[39m\u001b[39m.\u001b[39m_draw_grid \u001b[39m=\u001b[39m cbook\u001b[39m.\u001b[39;49m_string_to_bool(b)\n",
      "File \u001b[0;32m~/anaconda3/lib/python3.10/site-packages/matplotlib/_api/__init__.py:226\u001b[0m, in \u001b[0;36mcaching_module_getattr.<locals>.__getattr__\u001b[0;34m(name)\u001b[0m\n\u001b[1;32m    224\u001b[0m \u001b[39mif\u001b[39;00m name \u001b[39min\u001b[39;00m props:\n\u001b[1;32m    225\u001b[0m     \u001b[39mreturn\u001b[39;00m props[name]\u001b[39m.\u001b[39m\u001b[39m__get__\u001b[39m(instance)\n\u001b[0;32m--> 226\u001b[0m \u001b[39mraise\u001b[39;00m \u001b[39mAttributeError\u001b[39;00m(\n\u001b[1;32m    227\u001b[0m     \u001b[39mf\u001b[39m\u001b[39m\"\u001b[39m\u001b[39mmodule \u001b[39m\u001b[39m{\u001b[39;00m\u001b[39mcls\u001b[39m\u001b[39m.\u001b[39m\u001b[39m__module__\u001b[39m\u001b[39m!r}\u001b[39;00m\u001b[39m has no attribute \u001b[39m\u001b[39m{\u001b[39;00mname\u001b[39m!r}\u001b[39;00m\u001b[39m\"\u001b[39m)\n",
      "\u001b[0;31mAttributeError\u001b[0m: module 'matplotlib.cbook' has no attribute '_string_to_bool'"
     ]
    },
    {
     "data": {
      "text/plain": [
       "<Figure size 640x480 with 0 Axes>"
      ]
     },
     "metadata": {},
     "output_type": "display_data"
    }
   ],
   "source": [
    "G2 = opticspy.gauss.gaussbeam(w0=1, P=5, z0=5, z=10)"
   ]
  },
  {
   "cell_type": "code",
   "execution_count": 5,
   "metadata": {},
   "outputs": [
    {
     "ename": "AttributeError",
     "evalue": "module 'matplotlib.cbook' has no attribute '_string_to_bool'",
     "output_type": "error",
     "traceback": [
      "\u001b[0;31m---------------------------------------------------------------------------\u001b[0m",
      "\u001b[0;31mAttributeError\u001b[0m                            Traceback (most recent call last)",
      "\u001b[1;32m/Users/jwgu/git/opticspy/notebooks/other_functions.ipynb Cell 5\u001b[0m line \u001b[0;36m3\n\u001b[1;32m      <a href='vscode-notebook-cell:/Users/jwgu/git/opticspy/notebooks/other_functions.ipynb#W4sZmlsZQ%3D%3D?line=0'>1</a>\u001b[0m \u001b[39mimport\u001b[39;00m \u001b[39mmatplotlib\u001b[39;00m\u001b[39m.\u001b[39;00m\u001b[39mpyplot\u001b[39;00m \u001b[39mas\u001b[39;00m \u001b[39mplt\u001b[39;00m\n\u001b[0;32m----> <a href='vscode-notebook-cell:/Users/jwgu/git/opticspy/notebooks/other_functions.ipynb#W4sZmlsZQ%3D%3D?line=2'>3</a>\u001b[0m ax \u001b[39m=\u001b[39m plt\u001b[39m.\u001b[39;49mfigure()\u001b[39m.\u001b[39;49madd_subplot(projection\u001b[39m=\u001b[39;49m\u001b[39m'\u001b[39;49m\u001b[39m3d\u001b[39;49m\u001b[39m'\u001b[39;49m)\n",
      "File \u001b[0;32m~/anaconda3/lib/python3.10/site-packages/matplotlib/figure.py:768\u001b[0m, in \u001b[0;36mFigureBase.add_subplot\u001b[0;34m(self, *args, **kwargs)\u001b[0m\n\u001b[1;32m    765\u001b[0m         args \u001b[39m=\u001b[39m \u001b[39mtuple\u001b[39m(\u001b[39mmap\u001b[39m(\u001b[39mint\u001b[39m, \u001b[39mstr\u001b[39m(args[\u001b[39m0\u001b[39m])))\n\u001b[1;32m    766\u001b[0m     projection_class, pkw \u001b[39m=\u001b[39m \u001b[39mself\u001b[39m\u001b[39m.\u001b[39m_process_projection_requirements(\n\u001b[1;32m    767\u001b[0m         \u001b[39m*\u001b[39margs, \u001b[39m*\u001b[39m\u001b[39m*\u001b[39mkwargs)\n\u001b[0;32m--> 768\u001b[0m     ax \u001b[39m=\u001b[39m projection_class(\u001b[39mself\u001b[39;49m, \u001b[39m*\u001b[39;49margs, \u001b[39m*\u001b[39;49m\u001b[39m*\u001b[39;49mpkw)\n\u001b[1;32m    769\u001b[0m     key \u001b[39m=\u001b[39m (projection_class, pkw)\n\u001b[1;32m    770\u001b[0m \u001b[39mreturn\u001b[39;00m \u001b[39mself\u001b[39m\u001b[39m.\u001b[39m_add_axes_internal(ax, key)\n",
      "File \u001b[0;32m~/git/opticspy/opticspy/mplot3d/axes3d.py:97\u001b[0m, in \u001b[0;36mAxes3D.__init__\u001b[0;34m(self, fig, rect, *args, **kwargs)\u001b[0m\n\u001b[1;32m     94\u001b[0m     \u001b[39mself\u001b[39m\u001b[39m.\u001b[39m_shared_z_axes\u001b[39m.\u001b[39mjoin(\u001b[39mself\u001b[39m, sharez)\n\u001b[1;32m     95\u001b[0m     \u001b[39mself\u001b[39m\u001b[39m.\u001b[39m_adjustable \u001b[39m=\u001b[39m \u001b[39m'\u001b[39m\u001b[39mdatalim\u001b[39m\u001b[39m'\u001b[39m\n\u001b[0;32m---> 97\u001b[0m Axes\u001b[39m.\u001b[39;49m\u001b[39m__init__\u001b[39;49m(\u001b[39mself\u001b[39;49m, fig, rect,\n\u001b[1;32m     98\u001b[0m               frameon\u001b[39m=\u001b[39;49m\u001b[39mTrue\u001b[39;49;00m,\n\u001b[1;32m     99\u001b[0m               \u001b[39m*\u001b[39;49margs, \u001b[39m*\u001b[39;49m\u001b[39m*\u001b[39;49mkwargs)\n\u001b[1;32m    100\u001b[0m \u001b[39m# Disable drawing of axes by base class\u001b[39;00m\n\u001b[1;32m    101\u001b[0m Axes\u001b[39m.\u001b[39mset_axis_off(\u001b[39mself\u001b[39m)\n",
      "File \u001b[0;32m~/anaconda3/lib/python3.10/site-packages/matplotlib/axes/_base.py:683\u001b[0m, in \u001b[0;36m_AxesBase.__init__\u001b[0;34m(self, fig, facecolor, frameon, sharex, sharey, label, xscale, yscale, box_aspect, *args, **kwargs)\u001b[0m\n\u001b[1;32m    680\u001b[0m \u001b[39mself\u001b[39m\u001b[39m.\u001b[39mset_axisbelow(mpl\u001b[39m.\u001b[39mrcParams[\u001b[39m'\u001b[39m\u001b[39maxes.axisbelow\u001b[39m\u001b[39m'\u001b[39m])\n\u001b[1;32m    682\u001b[0m \u001b[39mself\u001b[39m\u001b[39m.\u001b[39m_rasterization_zorder \u001b[39m=\u001b[39m \u001b[39mNone\u001b[39;00m\n\u001b[0;32m--> 683\u001b[0m \u001b[39mself\u001b[39;49m\u001b[39m.\u001b[39;49mclear()\n\u001b[1;32m    685\u001b[0m \u001b[39m# funcs used to format x and y - fall back on major formatters\u001b[39;00m\n\u001b[1;32m    686\u001b[0m \u001b[39mself\u001b[39m\u001b[39m.\u001b[39mfmt_xdata \u001b[39m=\u001b[39m \u001b[39mNone\u001b[39;00m\n",
      "File \u001b[0;32m~/anaconda3/lib/python3.10/site-packages/matplotlib/axes/_base.py:1393\u001b[0m, in \u001b[0;36m_AxesBase.clear\u001b[0;34m(self)\u001b[0m\n\u001b[1;32m   1390\u001b[0m \u001b[39m# Act as an alias, or as the superclass implementation depending on the\u001b[39;00m\n\u001b[1;32m   1391\u001b[0m \u001b[39m# subclass implementation.\u001b[39;00m\n\u001b[1;32m   1392\u001b[0m \u001b[39mif\u001b[39;00m \u001b[39mself\u001b[39m\u001b[39m.\u001b[39m_subclass_uses_cla:\n\u001b[0;32m-> 1393\u001b[0m     \u001b[39mself\u001b[39;49m\u001b[39m.\u001b[39;49mcla()\n\u001b[1;32m   1394\u001b[0m \u001b[39melse\u001b[39;00m:\n\u001b[1;32m   1395\u001b[0m     \u001b[39mself\u001b[39m\u001b[39m.\u001b[39m__clear()\n",
      "File \u001b[0;32m~/git/opticspy/opticspy/mplot3d/axes3d.py:1053\u001b[0m, in \u001b[0;36mAxes3D.cla\u001b[0;34m(self)\u001b[0m\n\u001b[1;32m   1050\u001b[0m \u001b[39mself\u001b[39m\u001b[39m.\u001b[39m_autoscaleZon \u001b[39m=\u001b[39m \u001b[39mTrue\u001b[39;00m\n\u001b[1;32m   1051\u001b[0m \u001b[39mself\u001b[39m\u001b[39m.\u001b[39m_zmargin \u001b[39m=\u001b[39m \u001b[39m0\u001b[39m\n\u001b[0;32m-> 1053\u001b[0m Axes\u001b[39m.\u001b[39;49mcla(\u001b[39mself\u001b[39;49m)\n\u001b[1;32m   1055\u001b[0m \u001b[39mself\u001b[39m\u001b[39m.\u001b[39mgrid(rcParams[\u001b[39m'\u001b[39m\u001b[39maxes3d.grid\u001b[39m\u001b[39m'\u001b[39m])\n",
      "File \u001b[0;32m~/anaconda3/lib/python3.10/site-packages/matplotlib/axes/_base.py:1402\u001b[0m, in \u001b[0;36m_AxesBase.cla\u001b[0;34m(self)\u001b[0m\n\u001b[1;32m   1399\u001b[0m \u001b[39m# Act as an alias, or as the superclass implementation depending on the\u001b[39;00m\n\u001b[1;32m   1400\u001b[0m \u001b[39m# subclass implementation.\u001b[39;00m\n\u001b[1;32m   1401\u001b[0m \u001b[39mif\u001b[39;00m \u001b[39mself\u001b[39m\u001b[39m.\u001b[39m_subclass_uses_cla:\n\u001b[0;32m-> 1402\u001b[0m     \u001b[39mself\u001b[39;49m\u001b[39m.\u001b[39;49m__clear()\n\u001b[1;32m   1403\u001b[0m \u001b[39melse\u001b[39;00m:\n\u001b[1;32m   1404\u001b[0m     \u001b[39mself\u001b[39m\u001b[39m.\u001b[39mclear()\n",
      "File \u001b[0;32m~/anaconda3/lib/python3.10/site-packages/matplotlib/axes/_base.py:1312\u001b[0m, in \u001b[0;36m_AxesBase.__clear\u001b[0;34m(self)\u001b[0m\n\u001b[1;32m   1309\u001b[0m \u001b[39mself\u001b[39m\u001b[39m.\u001b[39mlegend_ \u001b[39m=\u001b[39m \u001b[39mNone\u001b[39;00m\n\u001b[1;32m   1310\u001b[0m \u001b[39mself\u001b[39m\u001b[39m.\u001b[39mcontainers \u001b[39m=\u001b[39m []\n\u001b[0;32m-> 1312\u001b[0m \u001b[39mself\u001b[39;49m\u001b[39m.\u001b[39;49mgrid(\u001b[39mFalse\u001b[39;49;00m)  \u001b[39m# Disable grid on init to use rcParameter\u001b[39;00m\n\u001b[1;32m   1313\u001b[0m \u001b[39mself\u001b[39m\u001b[39m.\u001b[39mgrid(\u001b[39mself\u001b[39m\u001b[39m.\u001b[39m_gridOn, which\u001b[39m=\u001b[39mmpl\u001b[39m.\u001b[39mrcParams[\u001b[39m'\u001b[39m\u001b[39maxes.grid.which\u001b[39m\u001b[39m'\u001b[39m],\n\u001b[1;32m   1314\u001b[0m           axis\u001b[39m=\u001b[39mmpl\u001b[39m.\u001b[39mrcParams[\u001b[39m'\u001b[39m\u001b[39maxes.grid.axis\u001b[39m\u001b[39m'\u001b[39m])\n\u001b[1;32m   1315\u001b[0m props \u001b[39m=\u001b[39m font_manager\u001b[39m.\u001b[39mFontProperties(\n\u001b[1;32m   1316\u001b[0m     size\u001b[39m=\u001b[39mmpl\u001b[39m.\u001b[39mrcParams[\u001b[39m'\u001b[39m\u001b[39maxes.titlesize\u001b[39m\u001b[39m'\u001b[39m],\n\u001b[1;32m   1317\u001b[0m     weight\u001b[39m=\u001b[39mmpl\u001b[39m.\u001b[39mrcParams[\u001b[39m'\u001b[39m\u001b[39maxes.titleweight\u001b[39m\u001b[39m'\u001b[39m])\n",
      "File \u001b[0;32m~/git/opticspy/opticspy/mplot3d/axes3d.py:1264\u001b[0m, in \u001b[0;36mAxes3D.grid\u001b[0;34m(self, b, **kwargs)\u001b[0m\n\u001b[1;32m   1262\u001b[0m \u001b[39mif\u001b[39;00m \u001b[39mlen\u001b[39m(kwargs) :\n\u001b[1;32m   1263\u001b[0m     b \u001b[39m=\u001b[39m \u001b[39mTrue\u001b[39;00m\n\u001b[0;32m-> 1264\u001b[0m \u001b[39mself\u001b[39m\u001b[39m.\u001b[39m_draw_grid \u001b[39m=\u001b[39m cbook\u001b[39m.\u001b[39;49m_string_to_bool(b)\n",
      "File \u001b[0;32m~/anaconda3/lib/python3.10/site-packages/matplotlib/_api/__init__.py:226\u001b[0m, in \u001b[0;36mcaching_module_getattr.<locals>.__getattr__\u001b[0;34m(name)\u001b[0m\n\u001b[1;32m    224\u001b[0m \u001b[39mif\u001b[39;00m name \u001b[39min\u001b[39;00m props:\n\u001b[1;32m    225\u001b[0m     \u001b[39mreturn\u001b[39;00m props[name]\u001b[39m.\u001b[39m\u001b[39m__get__\u001b[39m(instance)\n\u001b[0;32m--> 226\u001b[0m \u001b[39mraise\u001b[39;00m \u001b[39mAttributeError\u001b[39;00m(\n\u001b[1;32m    227\u001b[0m     \u001b[39mf\u001b[39m\u001b[39m\"\u001b[39m\u001b[39mmodule \u001b[39m\u001b[39m{\u001b[39;00m\u001b[39mcls\u001b[39m\u001b[39m.\u001b[39m\u001b[39m__module__\u001b[39m\u001b[39m!r}\u001b[39;00m\u001b[39m has no attribute \u001b[39m\u001b[39m{\u001b[39;00mname\u001b[39m!r}\u001b[39;00m\u001b[39m\"\u001b[39m)\n",
      "\u001b[0;31mAttributeError\u001b[0m: module 'matplotlib.cbook' has no attribute '_string_to_bool'"
     ]
    },
    {
     "data": {
      "text/plain": [
       "<Figure size 640x480 with 0 Axes>"
      ]
     },
     "metadata": {},
     "output_type": "display_data"
    }
   ],
   "source": [
    "import matplotlib.pyplot as plt\n",
    "\n",
    "ax = plt.figure().add_subplot(projection='3d')\n",
    "\n"
   ]
  }
 ],
 "metadata": {
  "kernelspec": {
   "display_name": "base",
   "language": "python",
   "name": "python3"
  },
  "language_info": {
   "codemirror_mode": {
    "name": "ipython",
    "version": 3
   },
   "file_extension": ".py",
   "mimetype": "text/x-python",
   "name": "python",
   "nbconvert_exporter": "python",
   "pygments_lexer": "ipython3",
   "version": "3.10.12"
  }
 },
 "nbformat": 4,
 "nbformat_minor": 2
}
