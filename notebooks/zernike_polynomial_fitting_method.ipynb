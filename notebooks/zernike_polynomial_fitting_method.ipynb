{
 "cells": [
  {
   "cell_type": "markdown",
   "metadata": {},
   "source": [
    "opticspy has Zernike Polynomials fitting method\n",
    "This method could fit nth(1-37) Zernike Polynomial to a surface or an aberration. The example below is first generating a test surface, which in practice is got from an interferometer or a detector. Then we could input the detected matrix to the fitting program."
   ]
  },
  {
   "cell_type": "code",
   "execution_count": 1,
   "metadata": {},
   "outputs": [],
   "source": [
    "%matplotlib inline\n",
    "import opticspy"
   ]
  },
  {
   "cell_type": "code",
   "execution_count": 2,
   "metadata": {},
   "outputs": [
    {
     "ename": "AttributeError",
     "evalue": "module 'matplotlib.cbook' has no attribute '_string_to_bool'",
     "output_type": "error",
     "traceback": [
      "\u001b[0;31m---------------------------------------------------------------------------\u001b[0m",
      "\u001b[0;31mAttributeError\u001b[0m                            Traceback (most recent call last)",
      "\u001b[1;32m/Users/jwgu/git/opticspy/notebooks/zernike_polynomial_fitting_method.ipynb Cell 3\u001b[0m line \u001b[0;36m1\n\u001b[0;32m----> <a href='vscode-notebook-cell:/Users/jwgu/git/opticspy/notebooks/zernike_polynomial_fitting_method.ipynb#W2sZmlsZQ%3D%3D?line=0'>1</a>\u001b[0m Z \u001b[39m=\u001b[39m opticspy\u001b[39m.\u001b[39;49mtest\u001b[39m.\u001b[39;49mtest_surface\u001b[39m.\u001b[39;49mspherical_surf(\u001b[39m200\u001b[39;49m)\n",
      "File \u001b[0;32m~/git/opticspy/opticspy/test/test_surface.py:24\u001b[0m, in \u001b[0;36mspherical_surf\u001b[0;34m(l1)\u001b[0m\n\u001b[1;32m     22\u001b[0m Z \u001b[39m=\u001b[39m Z\u001b[39m+\u001b[39mnoise\n\u001b[1;32m     23\u001b[0m fig \u001b[39m=\u001b[39m __plt__\u001b[39m.\u001b[39mfigure(figsize\u001b[39m=\u001b[39m(\u001b[39m12\u001b[39m, \u001b[39m8\u001b[39m), dpi\u001b[39m=\u001b[39m\u001b[39m80\u001b[39m)\n\u001b[0;32m---> 24\u001b[0m ax \u001b[39m=\u001b[39m __plt__\u001b[39m.\u001b[39;49maxes(projection\u001b[39m=\u001b[39;49m\u001b[39m'\u001b[39;49m\u001b[39m3d\u001b[39;49m\u001b[39m'\u001b[39;49m)\n\u001b[1;32m     25\u001b[0m surf \u001b[39m=\u001b[39m ax\u001b[39m.\u001b[39mplot_surface(X, Y, Z, rstride\u001b[39m=\u001b[39m\u001b[39m1\u001b[39m, cstride\u001b[39m=\u001b[39m\u001b[39m1\u001b[39m, cmap\u001b[39m=\u001b[39m__cm__\u001b[39m.\u001b[39mRdYlGn,\\\n\u001b[1;32m     26\u001b[0m \t\t\t\t\t\t\tlinewidth\u001b[39m=\u001b[39m\u001b[39m0\u001b[39m, antialiased\u001b[39m=\u001b[39m\u001b[39mFalse\u001b[39;00m, alpha \u001b[39m=\u001b[39m \u001b[39m0.6\u001b[39m)\n\u001b[1;32m     27\u001b[0m v \u001b[39m=\u001b[39m \u001b[39mmax\u001b[39m(\u001b[39mabs\u001b[39m(Z\u001b[39m.\u001b[39mmax()),\u001b[39mabs\u001b[39m(Z\u001b[39m.\u001b[39mmin()))\n",
      "File \u001b[0;32m~/anaconda3/lib/python3.10/site-packages/matplotlib/pyplot.py:1122\u001b[0m, in \u001b[0;36maxes\u001b[0;34m(arg, **kwargs)\u001b[0m\n\u001b[1;32m   1120\u001b[0m \u001b[39mif\u001b[39;00m arg \u001b[39mis\u001b[39;00m \u001b[39mNone\u001b[39;00m:\n\u001b[1;32m   1121\u001b[0m     \u001b[39mif\u001b[39;00m pos \u001b[39mis\u001b[39;00m \u001b[39mNone\u001b[39;00m:\n\u001b[0;32m-> 1122\u001b[0m         \u001b[39mreturn\u001b[39;00m fig\u001b[39m.\u001b[39;49madd_subplot(\u001b[39m*\u001b[39;49m\u001b[39m*\u001b[39;49mkwargs)\n\u001b[1;32m   1123\u001b[0m     \u001b[39melse\u001b[39;00m:\n\u001b[1;32m   1124\u001b[0m         \u001b[39mreturn\u001b[39;00m fig\u001b[39m.\u001b[39madd_axes(pos, \u001b[39m*\u001b[39m\u001b[39m*\u001b[39mkwargs)\n",
      "File \u001b[0;32m~/anaconda3/lib/python3.10/site-packages/matplotlib/figure.py:768\u001b[0m, in \u001b[0;36mFigureBase.add_subplot\u001b[0;34m(self, *args, **kwargs)\u001b[0m\n\u001b[1;32m    765\u001b[0m         args \u001b[39m=\u001b[39m \u001b[39mtuple\u001b[39m(\u001b[39mmap\u001b[39m(\u001b[39mint\u001b[39m, \u001b[39mstr\u001b[39m(args[\u001b[39m0\u001b[39m])))\n\u001b[1;32m    766\u001b[0m     projection_class, pkw \u001b[39m=\u001b[39m \u001b[39mself\u001b[39m\u001b[39m.\u001b[39m_process_projection_requirements(\n\u001b[1;32m    767\u001b[0m         \u001b[39m*\u001b[39margs, \u001b[39m*\u001b[39m\u001b[39m*\u001b[39mkwargs)\n\u001b[0;32m--> 768\u001b[0m     ax \u001b[39m=\u001b[39m projection_class(\u001b[39mself\u001b[39;49m, \u001b[39m*\u001b[39;49margs, \u001b[39m*\u001b[39;49m\u001b[39m*\u001b[39;49mpkw)\n\u001b[1;32m    769\u001b[0m     key \u001b[39m=\u001b[39m (projection_class, pkw)\n\u001b[1;32m    770\u001b[0m \u001b[39mreturn\u001b[39;00m \u001b[39mself\u001b[39m\u001b[39m.\u001b[39m_add_axes_internal(ax, key)\n",
      "File \u001b[0;32m~/git/opticspy/opticspy/mplot3d/axes3d.py:97\u001b[0m, in \u001b[0;36mAxes3D.__init__\u001b[0;34m(self, fig, rect, *args, **kwargs)\u001b[0m\n\u001b[1;32m     94\u001b[0m     \u001b[39mself\u001b[39m\u001b[39m.\u001b[39m_shared_z_axes\u001b[39m.\u001b[39mjoin(\u001b[39mself\u001b[39m, sharez)\n\u001b[1;32m     95\u001b[0m     \u001b[39mself\u001b[39m\u001b[39m.\u001b[39m_adjustable \u001b[39m=\u001b[39m \u001b[39m'\u001b[39m\u001b[39mdatalim\u001b[39m\u001b[39m'\u001b[39m\n\u001b[0;32m---> 97\u001b[0m Axes\u001b[39m.\u001b[39;49m\u001b[39m__init__\u001b[39;49m(\u001b[39mself\u001b[39;49m, fig, rect,\n\u001b[1;32m     98\u001b[0m               frameon\u001b[39m=\u001b[39;49m\u001b[39mTrue\u001b[39;49;00m,\n\u001b[1;32m     99\u001b[0m               \u001b[39m*\u001b[39;49margs, \u001b[39m*\u001b[39;49m\u001b[39m*\u001b[39;49mkwargs)\n\u001b[1;32m    100\u001b[0m \u001b[39m# Disable drawing of axes by base class\u001b[39;00m\n\u001b[1;32m    101\u001b[0m Axes\u001b[39m.\u001b[39mset_axis_off(\u001b[39mself\u001b[39m)\n",
      "File \u001b[0;32m~/anaconda3/lib/python3.10/site-packages/matplotlib/axes/_base.py:683\u001b[0m, in \u001b[0;36m_AxesBase.__init__\u001b[0;34m(self, fig, facecolor, frameon, sharex, sharey, label, xscale, yscale, box_aspect, *args, **kwargs)\u001b[0m\n\u001b[1;32m    680\u001b[0m \u001b[39mself\u001b[39m\u001b[39m.\u001b[39mset_axisbelow(mpl\u001b[39m.\u001b[39mrcParams[\u001b[39m'\u001b[39m\u001b[39maxes.axisbelow\u001b[39m\u001b[39m'\u001b[39m])\n\u001b[1;32m    682\u001b[0m \u001b[39mself\u001b[39m\u001b[39m.\u001b[39m_rasterization_zorder \u001b[39m=\u001b[39m \u001b[39mNone\u001b[39;00m\n\u001b[0;32m--> 683\u001b[0m \u001b[39mself\u001b[39;49m\u001b[39m.\u001b[39;49mclear()\n\u001b[1;32m    685\u001b[0m \u001b[39m# funcs used to format x and y - fall back on major formatters\u001b[39;00m\n\u001b[1;32m    686\u001b[0m \u001b[39mself\u001b[39m\u001b[39m.\u001b[39mfmt_xdata \u001b[39m=\u001b[39m \u001b[39mNone\u001b[39;00m\n",
      "File \u001b[0;32m~/anaconda3/lib/python3.10/site-packages/matplotlib/axes/_base.py:1393\u001b[0m, in \u001b[0;36m_AxesBase.clear\u001b[0;34m(self)\u001b[0m\n\u001b[1;32m   1390\u001b[0m \u001b[39m# Act as an alias, or as the superclass implementation depending on the\u001b[39;00m\n\u001b[1;32m   1391\u001b[0m \u001b[39m# subclass implementation.\u001b[39;00m\n\u001b[1;32m   1392\u001b[0m \u001b[39mif\u001b[39;00m \u001b[39mself\u001b[39m\u001b[39m.\u001b[39m_subclass_uses_cla:\n\u001b[0;32m-> 1393\u001b[0m     \u001b[39mself\u001b[39;49m\u001b[39m.\u001b[39;49mcla()\n\u001b[1;32m   1394\u001b[0m \u001b[39melse\u001b[39;00m:\n\u001b[1;32m   1395\u001b[0m     \u001b[39mself\u001b[39m\u001b[39m.\u001b[39m__clear()\n",
      "File \u001b[0;32m~/git/opticspy/opticspy/mplot3d/axes3d.py:1053\u001b[0m, in \u001b[0;36mAxes3D.cla\u001b[0;34m(self)\u001b[0m\n\u001b[1;32m   1050\u001b[0m \u001b[39mself\u001b[39m\u001b[39m.\u001b[39m_autoscaleZon \u001b[39m=\u001b[39m \u001b[39mTrue\u001b[39;00m\n\u001b[1;32m   1051\u001b[0m \u001b[39mself\u001b[39m\u001b[39m.\u001b[39m_zmargin \u001b[39m=\u001b[39m \u001b[39m0\u001b[39m\n\u001b[0;32m-> 1053\u001b[0m Axes\u001b[39m.\u001b[39;49mcla(\u001b[39mself\u001b[39;49m)\n\u001b[1;32m   1055\u001b[0m \u001b[39mself\u001b[39m\u001b[39m.\u001b[39mgrid(rcParams[\u001b[39m'\u001b[39m\u001b[39maxes3d.grid\u001b[39m\u001b[39m'\u001b[39m])\n",
      "File \u001b[0;32m~/anaconda3/lib/python3.10/site-packages/matplotlib/axes/_base.py:1402\u001b[0m, in \u001b[0;36m_AxesBase.cla\u001b[0;34m(self)\u001b[0m\n\u001b[1;32m   1399\u001b[0m \u001b[39m# Act as an alias, or as the superclass implementation depending on the\u001b[39;00m\n\u001b[1;32m   1400\u001b[0m \u001b[39m# subclass implementation.\u001b[39;00m\n\u001b[1;32m   1401\u001b[0m \u001b[39mif\u001b[39;00m \u001b[39mself\u001b[39m\u001b[39m.\u001b[39m_subclass_uses_cla:\n\u001b[0;32m-> 1402\u001b[0m     \u001b[39mself\u001b[39;49m\u001b[39m.\u001b[39;49m__clear()\n\u001b[1;32m   1403\u001b[0m \u001b[39melse\u001b[39;00m:\n\u001b[1;32m   1404\u001b[0m     \u001b[39mself\u001b[39m\u001b[39m.\u001b[39mclear()\n",
      "File \u001b[0;32m~/anaconda3/lib/python3.10/site-packages/matplotlib/axes/_base.py:1312\u001b[0m, in \u001b[0;36m_AxesBase.__clear\u001b[0;34m(self)\u001b[0m\n\u001b[1;32m   1309\u001b[0m \u001b[39mself\u001b[39m\u001b[39m.\u001b[39mlegend_ \u001b[39m=\u001b[39m \u001b[39mNone\u001b[39;00m\n\u001b[1;32m   1310\u001b[0m \u001b[39mself\u001b[39m\u001b[39m.\u001b[39mcontainers \u001b[39m=\u001b[39m []\n\u001b[0;32m-> 1312\u001b[0m \u001b[39mself\u001b[39;49m\u001b[39m.\u001b[39;49mgrid(\u001b[39mFalse\u001b[39;49;00m)  \u001b[39m# Disable grid on init to use rcParameter\u001b[39;00m\n\u001b[1;32m   1313\u001b[0m \u001b[39mself\u001b[39m\u001b[39m.\u001b[39mgrid(\u001b[39mself\u001b[39m\u001b[39m.\u001b[39m_gridOn, which\u001b[39m=\u001b[39mmpl\u001b[39m.\u001b[39mrcParams[\u001b[39m'\u001b[39m\u001b[39maxes.grid.which\u001b[39m\u001b[39m'\u001b[39m],\n\u001b[1;32m   1314\u001b[0m           axis\u001b[39m=\u001b[39mmpl\u001b[39m.\u001b[39mrcParams[\u001b[39m'\u001b[39m\u001b[39maxes.grid.axis\u001b[39m\u001b[39m'\u001b[39m])\n\u001b[1;32m   1315\u001b[0m props \u001b[39m=\u001b[39m font_manager\u001b[39m.\u001b[39mFontProperties(\n\u001b[1;32m   1316\u001b[0m     size\u001b[39m=\u001b[39mmpl\u001b[39m.\u001b[39mrcParams[\u001b[39m'\u001b[39m\u001b[39maxes.titlesize\u001b[39m\u001b[39m'\u001b[39m],\n\u001b[1;32m   1317\u001b[0m     weight\u001b[39m=\u001b[39mmpl\u001b[39m.\u001b[39mrcParams[\u001b[39m'\u001b[39m\u001b[39maxes.titleweight\u001b[39m\u001b[39m'\u001b[39m])\n",
      "File \u001b[0;32m~/git/opticspy/opticspy/mplot3d/axes3d.py:1264\u001b[0m, in \u001b[0;36mAxes3D.grid\u001b[0;34m(self, b, **kwargs)\u001b[0m\n\u001b[1;32m   1262\u001b[0m \u001b[39mif\u001b[39;00m \u001b[39mlen\u001b[39m(kwargs) :\n\u001b[1;32m   1263\u001b[0m     b \u001b[39m=\u001b[39m \u001b[39mTrue\u001b[39;00m\n\u001b[0;32m-> 1264\u001b[0m \u001b[39mself\u001b[39m\u001b[39m.\u001b[39m_draw_grid \u001b[39m=\u001b[39m cbook\u001b[39m.\u001b[39;49m_string_to_bool(b)\n",
      "File \u001b[0;32m~/anaconda3/lib/python3.10/site-packages/matplotlib/_api/__init__.py:226\u001b[0m, in \u001b[0;36mcaching_module_getattr.<locals>.__getattr__\u001b[0;34m(name)\u001b[0m\n\u001b[1;32m    224\u001b[0m \u001b[39mif\u001b[39;00m name \u001b[39min\u001b[39;00m props:\n\u001b[1;32m    225\u001b[0m     \u001b[39mreturn\u001b[39;00m props[name]\u001b[39m.\u001b[39m\u001b[39m__get__\u001b[39m(instance)\n\u001b[0;32m--> 226\u001b[0m \u001b[39mraise\u001b[39;00m \u001b[39mAttributeError\u001b[39;00m(\n\u001b[1;32m    227\u001b[0m     \u001b[39mf\u001b[39m\u001b[39m\"\u001b[39m\u001b[39mmodule \u001b[39m\u001b[39m{\u001b[39;00m\u001b[39mcls\u001b[39m\u001b[39m.\u001b[39m\u001b[39m__module__\u001b[39m\u001b[39m!r}\u001b[39;00m\u001b[39m has no attribute \u001b[39m\u001b[39m{\u001b[39;00mname\u001b[39m!r}\u001b[39;00m\u001b[39m\"\u001b[39m)\n",
      "\u001b[0;31mAttributeError\u001b[0m: module 'matplotlib.cbook' has no attribute '_string_to_bool'"
     ]
    },
    {
     "data": {
      "text/plain": [
       "<Figure size 960x640 with 0 Axes>"
      ]
     },
     "metadata": {},
     "output_type": "display_data"
    }
   ],
   "source": [
    "Z = opticspy.test.test_surface.spherical_surf(200)"
   ]
  },
  {
   "cell_type": "markdown",
   "metadata": {},
   "source": [
    "Here is where fitting start. The program could generate:\n",
    "1. The fitted 1-nth Zernike Polynomial Coefficients\n",
    "2. The bar graph of these Coefficients\n",
    "3. The remaining aberrations 3D surface¶\n",
    "4. The remaining aberrations 2D surface heat map\n",
    "5. The interferogram in 632nm, if you want interferogram in other wavelength,\n",
    "....you can use opticspy.interferometer_zenike method\n",
    "6. The surface generate by fitted Zernike Coefficients."
   ]
  },
  {
   "cell_type": "code",
   "execution_count": 3,
   "metadata": {},
   "outputs": [
    {
     "ename": "NameError",
     "evalue": "name 'Z' is not defined",
     "output_type": "error",
     "traceback": [
      "\u001b[0;31m---------------------------------------------------------------------------\u001b[0m",
      "\u001b[0;31mNameError\u001b[0m                                 Traceback (most recent call last)",
      "\u001b[1;32m/Users/jwgu/git/opticspy/notebooks/zernike_polynomial_fitting_method.ipynb Cell 5\u001b[0m line \u001b[0;36m2\n\u001b[1;32m      <a href='vscode-notebook-cell:/Users/jwgu/git/opticspy/notebooks/zernike_polynomial_fitting_method.ipynb#W4sZmlsZQ%3D%3D?line=0'>1</a>\u001b[0m \u001b[39m#Begin Fitting\u001b[39;00m\n\u001b[0;32m----> <a href='vscode-notebook-cell:/Users/jwgu/git/opticspy/notebooks/zernike_polynomial_fitting_method.ipynb#W4sZmlsZQ%3D%3D?line=1'>2</a>\u001b[0m fitlist,C1 \u001b[39m=\u001b[39m opticspy\u001b[39m.\u001b[39mzernike\u001b[39m.\u001b[39mfitting(Z,\u001b[39m12\u001b[39m,remain2D\u001b[39m=\u001b[39m\u001b[39m1\u001b[39m,remain3D\u001b[39m=\u001b[39m\u001b[39m1\u001b[39m,barchart\u001b[39m=\u001b[39m\u001b[39m1\u001b[39m,interferogram\u001b[39m=\u001b[39m\u001b[39m1\u001b[39m)\n\u001b[1;32m      <a href='vscode-notebook-cell:/Users/jwgu/git/opticspy/notebooks/zernike_polynomial_fitting_method.ipynb#W4sZmlsZQ%3D%3D?line=2'>3</a>\u001b[0m C1\u001b[39m.\u001b[39mzernikesurface(zlim\u001b[39m=\u001b[39m[\u001b[39m-\u001b[39m\u001b[39m1\u001b[39m,\u001b[39m2\u001b[39m])\n",
      "\u001b[0;31mNameError\u001b[0m: name 'Z' is not defined"
     ]
    }
   ],
   "source": [
    "#Begin Fitting\n",
    "fitlist,C1 = opticspy.zernike.fitting(Z,12,remain2D=1,remain3D=1,barchart=1,interferogram=1)\n",
    "C1.zernikesurface(zlim=[-1,2])"
   ]
  }
 ],
 "metadata": {
  "kernelspec": {
   "display_name": "base",
   "language": "python",
   "name": "python3"
  },
  "language_info": {
   "codemirror_mode": {
    "name": "ipython",
    "version": 3
   },
   "file_extension": ".py",
   "mimetype": "text/x-python",
   "name": "python",
   "nbconvert_exporter": "python",
   "pygments_lexer": "ipython3",
   "version": "3.10.12"
  }
 },
 "nbformat": 4,
 "nbformat_minor": 2
}
